{
 "cells": [
  {
   "cell_type": "code",
   "execution_count": 1,
   "metadata": {
    "_cell_guid": "b1076dfc-b9ad-4769-8c92-a6c4dae69d19",
    "_uuid": "8f2839f25d086af736a60e9eeb907d3b93b6e0e5",
    "execution": {
     "iopub.execute_input": "2022-10-02T07:21:10.521661Z",
     "iopub.status.busy": "2022-10-02T07:21:10.521227Z",
     "iopub.status.idle": "2022-10-02T07:21:10.531515Z",
     "shell.execute_reply": "2022-10-02T07:21:10.530224Z",
     "shell.execute_reply.started": "2022-10-02T07:21:10.521627Z"
    }
   },
   "outputs": [],
   "source": [
    "import datetime\n",
    "import numpy as np\n",
    "import pandas as pd "
   ]
  },
  {
   "cell_type": "markdown",
   "metadata": {},
   "source": [
    "## 1. Dataset Preprocessing\n",
    "### 1.a) Dataset Loading"
   ]
  },
  {
   "cell_type": "code",
   "execution_count": 2,
   "metadata": {
    "execution": {
     "iopub.execute_input": "2022-10-02T07:21:10.908304Z",
     "iopub.status.busy": "2022-10-02T07:21:10.907118Z",
     "iopub.status.idle": "2022-10-02T07:21:11.007552Z",
     "shell.execute_reply": "2022-10-02T07:21:11.006295Z",
     "shell.execute_reply.started": "2022-10-02T07:21:10.908257Z"
    }
   },
   "outputs": [
    {
     "data": {
      "text/html": [
       "<div>\n",
       "<style scoped>\n",
       "    .dataframe tbody tr th:only-of-type {\n",
       "        vertical-align: middle;\n",
       "    }\n",
       "\n",
       "    .dataframe tbody tr th {\n",
       "        vertical-align: top;\n",
       "    }\n",
       "\n",
       "    .dataframe thead th {\n",
       "        text-align: right;\n",
       "    }\n",
       "</style>\n",
       "<table border=\"1\" class=\"dataframe\">\n",
       "  <thead>\n",
       "    <tr style=\"text-align: right;\">\n",
       "      <th></th>\n",
       "      <th>video_link</th>\n",
       "      <th>thumbnail_link</th>\n",
       "      <th>duration</th>\n",
       "      <th>title</th>\n",
       "      <th>views</th>\n",
       "      <th>likes</th>\n",
       "      <th>comments</th>\n",
       "      <th>date</th>\n",
       "      <th>description</th>\n",
       "    </tr>\n",
       "  </thead>\n",
       "  <tbody>\n",
       "    <tr>\n",
       "      <th>0</th>\n",
       "      <td>https://www.youtube.com//watch?v=B5smctuV7-Q</td>\n",
       "      <td>https://i.ytimg.com/vi/B5smctuV7-Q/hqdefault.jpg</td>\n",
       "      <td>14 minutes, 48 seconds</td>\n",
       "      <td>We Can Make COVID-19 the Last Pandemic | Bill ...</td>\n",
       "      <td>208,480</td>\n",
       "      <td>Like</td>\n",
       "      <td>NaN</td>\n",
       "      <td>22 Apr 2022</td>\n",
       "      <td>Building a pandemic-free future won’t be easy,...</td>\n",
       "    </tr>\n",
       "    <tr>\n",
       "      <th>1</th>\n",
       "      <td>https://www.youtube.com//watch?v=FrqBWQ-mVEc</td>\n",
       "      <td>https://i.ytimg.com/vi/FrqBWQ-mVEc/hqdefault.jpg</td>\n",
       "      <td>9 minutes, 53 seconds</td>\n",
       "      <td>The Future Will Be Shaped by Optimists | Kevin...</td>\n",
       "      <td>51,273</td>\n",
       "      <td>1.9K</td>\n",
       "      <td>262</td>\n",
       "      <td>21 Apr 2022</td>\n",
       "      <td>\"Every great and difficult thing has required ...</td>\n",
       "    </tr>\n",
       "    <tr>\n",
       "      <th>2</th>\n",
       "      <td>https://www.youtube.com//watch?v=iIne-UO7wUo</td>\n",
       "      <td>https://i.ytimg.com/vi/iIne-UO7wUo/hqdefault.jpg</td>\n",
       "      <td>9 minutes, 18 seconds</td>\n",
       "      <td>An Olympic Champion’s Unwavering Advocacy for ...</td>\n",
       "      <td>25,597</td>\n",
       "      <td>Like</td>\n",
       "      <td>53</td>\n",
       "      <td>20 Apr 2022</td>\n",
       "      <td>Getting pregnant as a track and field athlete ...</td>\n",
       "    </tr>\n",
       "    <tr>\n",
       "      <th>3</th>\n",
       "      <td>https://www.youtube.com//watch?v=5T2VRY0LECc</td>\n",
       "      <td>https://i.ytimg.com/vi/5T2VRY0LECc/hqdefault.jpg</td>\n",
       "      <td>6 minutes, 56 seconds</td>\n",
       "      <td>The African Swamp Protecting Earth's Environme...</td>\n",
       "      <td>21,430</td>\n",
       "      <td>633</td>\n",
       "      <td>40</td>\n",
       "      <td>20 Apr 2022</td>\n",
       "      <td>The peatlands of Africa's Congo Basin are a va...</td>\n",
       "    </tr>\n",
       "    <tr>\n",
       "      <th>4</th>\n",
       "      <td>https://www.youtube.com//watch?v=YRvf00NooN8</td>\n",
       "      <td>https://i.ytimg.com/vi/YRvf00NooN8/hqdefault.jpg</td>\n",
       "      <td>1 hour, 6 minutes, 25 seconds</td>\n",
       "      <td>Elon Musk: A future worth getting excited abou...</td>\n",
       "      <td>3,609,893</td>\n",
       "      <td>95K</td>\n",
       "      <td>8,757</td>\n",
       "      <td>18 Apr 2022</td>\n",
       "      <td>What's on Elon Musk's mind? In this exclusive ...</td>\n",
       "    </tr>\n",
       "  </tbody>\n",
       "</table>\n",
       "</div>"
      ],
      "text/plain": [
       "                                     video_link  \\\n",
       "0  https://www.youtube.com//watch?v=B5smctuV7-Q   \n",
       "1  https://www.youtube.com//watch?v=FrqBWQ-mVEc   \n",
       "2  https://www.youtube.com//watch?v=iIne-UO7wUo   \n",
       "3  https://www.youtube.com//watch?v=5T2VRY0LECc   \n",
       "4  https://www.youtube.com//watch?v=YRvf00NooN8   \n",
       "\n",
       "                                     thumbnail_link  \\\n",
       "0  https://i.ytimg.com/vi/B5smctuV7-Q/hqdefault.jpg   \n",
       "1  https://i.ytimg.com/vi/FrqBWQ-mVEc/hqdefault.jpg   \n",
       "2  https://i.ytimg.com/vi/iIne-UO7wUo/hqdefault.jpg   \n",
       "3  https://i.ytimg.com/vi/5T2VRY0LECc/hqdefault.jpg   \n",
       "4  https://i.ytimg.com/vi/YRvf00NooN8/hqdefault.jpg   \n",
       "\n",
       "                        duration  \\\n",
       "0         14 minutes, 48 seconds   \n",
       "1          9 minutes, 53 seconds   \n",
       "2          9 minutes, 18 seconds   \n",
       "3          6 minutes, 56 seconds   \n",
       "4  1 hour, 6 minutes, 25 seconds   \n",
       "\n",
       "                                               title      views likes  \\\n",
       "0  We Can Make COVID-19 the Last Pandemic | Bill ...    208,480  Like   \n",
       "1  The Future Will Be Shaped by Optimists | Kevin...     51,273  1.9K   \n",
       "2  An Olympic Champion’s Unwavering Advocacy for ...     25,597  Like   \n",
       "3  The African Swamp Protecting Earth's Environme...     21,430   633   \n",
       "4  Elon Musk: A future worth getting excited abou...  3,609,893   95K   \n",
       "\n",
       "  comments         date                                        description  \n",
       "0      NaN  22 Apr 2022  Building a pandemic-free future won’t be easy,...  \n",
       "1      262  21 Apr 2022  \"Every great and difficult thing has required ...  \n",
       "2       53  20 Apr 2022  Getting pregnant as a track and field athlete ...  \n",
       "3       40  20 Apr 2022  The peatlands of Africa's Congo Basin are a va...  \n",
       "4    8,757  18 Apr 2022  What's on Elon Musk's mind? In this exclusive ...  "
      ]
     },
     "execution_count": 2,
     "metadata": {},
     "output_type": "execute_result"
    }
   ],
   "source": [
    "df = pd.read_csv('TED.csv')\n",
    "df.head()"
   ]
  },
  {
   "cell_type": "markdown",
   "metadata": {},
   "source": [
    "### 1.b) Checking NULL values"
   ]
  },
  {
   "cell_type": "code",
   "execution_count": 3,
   "metadata": {
    "execution": {
     "iopub.execute_input": "2022-10-02T07:21:11.264620Z",
     "iopub.status.busy": "2022-10-02T07:21:11.264183Z",
     "iopub.status.idle": "2022-10-02T07:21:11.276704Z",
     "shell.execute_reply": "2022-10-02T07:21:11.275327Z",
     "shell.execute_reply.started": "2022-10-02T07:21:11.264586Z"
    }
   },
   "outputs": [
    {
     "data": {
      "text/plain": [
       "video_link          0\n",
       "thumbnail_link    655\n",
       "duration            0\n",
       "title               3\n",
       "views               3\n",
       "likes               1\n",
       "comments           67\n",
       "date                3\n",
       "description        13\n",
       "dtype: int64"
      ]
     },
     "execution_count": 3,
     "metadata": {},
     "output_type": "execute_result"
    }
   ],
   "source": [
    "df.isnull().sum()"
   ]
  },
  {
   "cell_type": "code",
   "execution_count": 4,
   "metadata": {
    "execution": {
     "iopub.execute_input": "2022-10-02T07:21:11.561326Z",
     "iopub.status.busy": "2022-10-02T07:21:11.560899Z",
     "iopub.status.idle": "2022-10-02T07:21:11.568047Z",
     "shell.execute_reply": "2022-10-02T07:21:11.566800Z",
     "shell.execute_reply.started": "2022-10-02T07:21:11.561290Z"
    }
   },
   "outputs": [
    {
     "data": {
      "text/plain": [
       "3923"
      ]
     },
     "execution_count": 4,
     "metadata": {},
     "output_type": "execute_result"
    }
   ],
   "source": [
    "len(df)"
   ]
  },
  {
   "cell_type": "code",
   "execution_count": 5,
   "metadata": {
    "execution": {
     "iopub.execute_input": "2022-10-02T07:21:11.809972Z",
     "iopub.status.busy": "2022-10-02T07:21:11.809266Z",
     "iopub.status.idle": "2022-10-02T07:21:11.816556Z",
     "shell.execute_reply": "2022-10-02T07:21:11.815305Z",
     "shell.execute_reply.started": "2022-10-02T07:21:11.809930Z"
    }
   },
   "outputs": [],
   "source": [
    "del df['thumbnail_link']"
   ]
  },
  {
   "cell_type": "code",
   "execution_count": 6,
   "metadata": {
    "execution": {
     "iopub.execute_input": "2022-10-02T07:21:12.060772Z",
     "iopub.status.busy": "2022-10-02T07:21:12.060360Z",
     "iopub.status.idle": "2022-10-02T07:21:12.074921Z",
     "shell.execute_reply": "2022-10-02T07:21:12.073506Z",
     "shell.execute_reply.started": "2022-10-02T07:21:12.060734Z"
    }
   },
   "outputs": [
    {
     "data": {
      "text/plain": [
       "video_link      0\n",
       "duration        0\n",
       "title           3\n",
       "views           3\n",
       "likes           1\n",
       "comments       67\n",
       "date            3\n",
       "description    13\n",
       "dtype: int64"
      ]
     },
     "execution_count": 6,
     "metadata": {},
     "output_type": "execute_result"
    }
   ],
   "source": [
    "df.isnull().sum()"
   ]
  },
  {
   "cell_type": "code",
   "execution_count": 7,
   "metadata": {
    "execution": {
     "iopub.execute_input": "2022-10-02T07:21:12.347533Z",
     "iopub.status.busy": "2022-10-02T07:21:12.346853Z",
     "iopub.status.idle": "2022-10-02T07:21:12.360261Z",
     "shell.execute_reply": "2022-10-02T07:21:12.359048Z",
     "shell.execute_reply.started": "2022-10-02T07:21:12.347496Z"
    }
   },
   "outputs": [],
   "source": [
    "df.dropna(inplace=True)"
   ]
  },
  {
   "cell_type": "code",
   "execution_count": 8,
   "metadata": {
    "execution": {
     "iopub.execute_input": "2022-10-02T07:21:13.332466Z",
     "iopub.status.busy": "2022-10-02T07:21:13.331593Z",
     "iopub.status.idle": "2022-10-02T07:21:13.343495Z",
     "shell.execute_reply": "2022-10-02T07:21:13.342177Z",
     "shell.execute_reply.started": "2022-10-02T07:21:13.332428Z"
    }
   },
   "outputs": [
    {
     "data": {
      "text/plain": [
       "video_link     0\n",
       "duration       0\n",
       "title          0\n",
       "views          0\n",
       "likes          0\n",
       "comments       0\n",
       "date           0\n",
       "description    0\n",
       "dtype: int64"
      ]
     },
     "execution_count": 8,
     "metadata": {},
     "output_type": "execute_result"
    }
   ],
   "source": [
    "df.isnull().sum()"
   ]
  },
  {
   "cell_type": "markdown",
   "metadata": {},
   "source": [
    "## 2) Data Exploration\n",
    "### 2.a) views column"
   ]
  },
  {
   "cell_type": "code",
   "execution_count": 9,
   "metadata": {
    "execution": {
     "iopub.execute_input": "2022-10-02T07:21:13.709831Z",
     "iopub.status.busy": "2022-10-02T07:21:13.709411Z",
     "iopub.status.idle": "2022-10-02T07:21:13.722755Z",
     "shell.execute_reply": "2022-10-02T07:21:13.721569Z",
     "shell.execute_reply.started": "2022-10-02T07:21:13.709796Z"
    }
   },
   "outputs": [],
   "source": [
    "views = []\n",
    "\n",
    "for i in df['views']:\n",
    "    views.append(int(i.replace(',', '')))\n",
    "    \n",
    "df['views'] = views"
   ]
  },
  {
   "cell_type": "markdown",
   "metadata": {},
   "source": [
    "### 2.b) comments column"
   ]
  },
  {
   "cell_type": "code",
   "execution_count": 10,
   "metadata": {
    "execution": {
     "iopub.execute_input": "2022-10-02T07:21:14.941220Z",
     "iopub.status.busy": "2022-10-02T07:21:14.940606Z",
     "iopub.status.idle": "2022-10-02T07:21:14.951166Z",
     "shell.execute_reply": "2022-10-02T07:21:14.950118Z",
     "shell.execute_reply.started": "2022-10-02T07:21:14.941184Z"
    }
   },
   "outputs": [],
   "source": [
    "comments = []\n",
    "\n",
    "for i in df['comments']:\n",
    "    comments.append(int(i.replace(',', '')))\n",
    "    \n",
    "df['comments'] = comments"
   ]
  },
  {
   "cell_type": "markdown",
   "metadata": {},
   "source": [
    "### 2.c) likes column"
   ]
  },
  {
   "cell_type": "code",
   "execution_count": 11,
   "metadata": {
    "execution": {
     "iopub.execute_input": "2022-10-02T07:21:15.430928Z",
     "iopub.status.busy": "2022-10-02T07:21:15.430492Z",
     "iopub.status.idle": "2022-10-02T07:21:15.446510Z",
     "shell.execute_reply": "2022-10-02T07:21:15.445609Z",
     "shell.execute_reply.started": "2022-10-02T07:21:15.430890Z"
    }
   },
   "outputs": [
    {
     "data": {
      "text/html": [
       "<div>\n",
       "<style scoped>\n",
       "    .dataframe tbody tr th:only-of-type {\n",
       "        vertical-align: middle;\n",
       "    }\n",
       "\n",
       "    .dataframe tbody tr th {\n",
       "        vertical-align: top;\n",
       "    }\n",
       "\n",
       "    .dataframe thead th {\n",
       "        text-align: right;\n",
       "    }\n",
       "</style>\n",
       "<table border=\"1\" class=\"dataframe\">\n",
       "  <thead>\n",
       "    <tr style=\"text-align: right;\">\n",
       "      <th></th>\n",
       "      <th>video_link</th>\n",
       "      <th>duration</th>\n",
       "      <th>title</th>\n",
       "      <th>views</th>\n",
       "      <th>likes</th>\n",
       "      <th>comments</th>\n",
       "      <th>date</th>\n",
       "      <th>description</th>\n",
       "    </tr>\n",
       "  </thead>\n",
       "  <tbody>\n",
       "    <tr>\n",
       "      <th>1</th>\n",
       "      <td>https://www.youtube.com//watch?v=FrqBWQ-mVEc</td>\n",
       "      <td>9 minutes, 53 seconds</td>\n",
       "      <td>The Future Will Be Shaped by Optimists | Kevin...</td>\n",
       "      <td>51273</td>\n",
       "      <td>1.9K</td>\n",
       "      <td>262</td>\n",
       "      <td>21 Apr 2022</td>\n",
       "      <td>\"Every great and difficult thing has required ...</td>\n",
       "    </tr>\n",
       "    <tr>\n",
       "      <th>2</th>\n",
       "      <td>https://www.youtube.com//watch?v=iIne-UO7wUo</td>\n",
       "      <td>9 minutes, 18 seconds</td>\n",
       "      <td>An Olympic Champion’s Unwavering Advocacy for ...</td>\n",
       "      <td>25597</td>\n",
       "      <td>Like</td>\n",
       "      <td>53</td>\n",
       "      <td>20 Apr 2022</td>\n",
       "      <td>Getting pregnant as a track and field athlete ...</td>\n",
       "    </tr>\n",
       "    <tr>\n",
       "      <th>3</th>\n",
       "      <td>https://www.youtube.com//watch?v=5T2VRY0LECc</td>\n",
       "      <td>6 minutes, 56 seconds</td>\n",
       "      <td>The African Swamp Protecting Earth's Environme...</td>\n",
       "      <td>21430</td>\n",
       "      <td>633</td>\n",
       "      <td>40</td>\n",
       "      <td>20 Apr 2022</td>\n",
       "      <td>The peatlands of Africa's Congo Basin are a va...</td>\n",
       "    </tr>\n",
       "    <tr>\n",
       "      <th>4</th>\n",
       "      <td>https://www.youtube.com//watch?v=YRvf00NooN8</td>\n",
       "      <td>1 hour, 6 minutes, 25 seconds</td>\n",
       "      <td>Elon Musk: A future worth getting excited abou...</td>\n",
       "      <td>3609893</td>\n",
       "      <td>95K</td>\n",
       "      <td>8757</td>\n",
       "      <td>18 Apr 2022</td>\n",
       "      <td>What's on Elon Musk's mind? In this exclusive ...</td>\n",
       "    </tr>\n",
       "    <tr>\n",
       "      <th>5</th>\n",
       "      <td>https://www.youtube.com//watch?v=cdZZpaB2kDM</td>\n",
       "      <td>54 minutes, 46 seconds</td>\n",
       "      <td>Elon Musk talks Twitter, Tesla and how his bra...</td>\n",
       "      <td>4405481</td>\n",
       "      <td>115K</td>\n",
       "      <td>10444</td>\n",
       "      <td>Streamed live on 14 Apr 2022</td>\n",
       "      <td>In this unedited conversation with head of TED...</td>\n",
       "    </tr>\n",
       "  </tbody>\n",
       "</table>\n",
       "</div>"
      ],
      "text/plain": [
       "                                     video_link  \\\n",
       "1  https://www.youtube.com//watch?v=FrqBWQ-mVEc   \n",
       "2  https://www.youtube.com//watch?v=iIne-UO7wUo   \n",
       "3  https://www.youtube.com//watch?v=5T2VRY0LECc   \n",
       "4  https://www.youtube.com//watch?v=YRvf00NooN8   \n",
       "5  https://www.youtube.com//watch?v=cdZZpaB2kDM   \n",
       "\n",
       "                        duration  \\\n",
       "1          9 minutes, 53 seconds   \n",
       "2          9 minutes, 18 seconds   \n",
       "3          6 minutes, 56 seconds   \n",
       "4  1 hour, 6 minutes, 25 seconds   \n",
       "5         54 minutes, 46 seconds   \n",
       "\n",
       "                                               title    views likes  comments  \\\n",
       "1  The Future Will Be Shaped by Optimists | Kevin...    51273  1.9K       262   \n",
       "2  An Olympic Champion’s Unwavering Advocacy for ...    25597  Like        53   \n",
       "3  The African Swamp Protecting Earth's Environme...    21430   633        40   \n",
       "4  Elon Musk: A future worth getting excited abou...  3609893   95K      8757   \n",
       "5  Elon Musk talks Twitter, Tesla and how his bra...  4405481  115K     10444   \n",
       "\n",
       "                           date  \\\n",
       "1                   21 Apr 2022   \n",
       "2                   20 Apr 2022   \n",
       "3                   20 Apr 2022   \n",
       "4                   18 Apr 2022   \n",
       "5  Streamed live on 14 Apr 2022   \n",
       "\n",
       "                                         description  \n",
       "1  \"Every great and difficult thing has required ...  \n",
       "2  Getting pregnant as a track and field athlete ...  \n",
       "3  The peatlands of Africa's Congo Basin are a va...  \n",
       "4  What's on Elon Musk's mind? In this exclusive ...  \n",
       "5  In this unedited conversation with head of TED...  "
      ]
     },
     "execution_count": 11,
     "metadata": {},
     "output_type": "execute_result"
    }
   ],
   "source": [
    "df.head()"
   ]
  },
  {
   "cell_type": "code",
   "execution_count": 12,
   "metadata": {
    "execution": {
     "iopub.execute_input": "2022-10-02T07:21:17.035043Z",
     "iopub.status.busy": "2022-10-02T07:21:17.033988Z",
     "iopub.status.idle": "2022-10-02T07:21:17.047721Z",
     "shell.execute_reply": "2022-10-02T07:21:17.046498Z",
     "shell.execute_reply.started": "2022-10-02T07:21:17.034997Z"
    }
   },
   "outputs": [],
   "source": [
    "likes = []\n",
    "\n",
    "for i in df['likes']:\n",
    "    if i == 'Like':\n",
    "        likes.append(i)\n",
    "    elif ('K' in i):\n",
    "        likes.append(int(float(i.replace('K', ''))*1000))\n",
    "    elif ('M' in i):\n",
    "        likes.append(int(float(i.replace('M', ''))*1000000))\n",
    "    else:\n",
    "        likes.append(int(i))\n",
    "        \n",
    "df['likes'] = likes"
   ]
  },
  {
   "cell_type": "code",
   "execution_count": 13,
   "metadata": {
    "execution": {
     "iopub.execute_input": "2022-10-02T07:21:17.517848Z",
     "iopub.status.busy": "2022-10-02T07:21:17.516702Z",
     "iopub.status.idle": "2022-10-02T07:21:17.534166Z",
     "shell.execute_reply": "2022-10-02T07:21:17.533123Z",
     "shell.execute_reply.started": "2022-10-02T07:21:17.517793Z"
    }
   },
   "outputs": [
    {
     "data": {
      "text/html": [
       "<div>\n",
       "<style scoped>\n",
       "    .dataframe tbody tr th:only-of-type {\n",
       "        vertical-align: middle;\n",
       "    }\n",
       "\n",
       "    .dataframe tbody tr th {\n",
       "        vertical-align: top;\n",
       "    }\n",
       "\n",
       "    .dataframe thead th {\n",
       "        text-align: right;\n",
       "    }\n",
       "</style>\n",
       "<table border=\"1\" class=\"dataframe\">\n",
       "  <thead>\n",
       "    <tr style=\"text-align: right;\">\n",
       "      <th></th>\n",
       "      <th>video_link</th>\n",
       "      <th>duration</th>\n",
       "      <th>title</th>\n",
       "      <th>views</th>\n",
       "      <th>likes</th>\n",
       "      <th>comments</th>\n",
       "      <th>date</th>\n",
       "      <th>description</th>\n",
       "    </tr>\n",
       "  </thead>\n",
       "  <tbody>\n",
       "    <tr>\n",
       "      <th>1</th>\n",
       "      <td>https://www.youtube.com//watch?v=FrqBWQ-mVEc</td>\n",
       "      <td>9 minutes, 53 seconds</td>\n",
       "      <td>The Future Will Be Shaped by Optimists | Kevin...</td>\n",
       "      <td>51273</td>\n",
       "      <td>1900</td>\n",
       "      <td>262</td>\n",
       "      <td>21 Apr 2022</td>\n",
       "      <td>\"Every great and difficult thing has required ...</td>\n",
       "    </tr>\n",
       "    <tr>\n",
       "      <th>2</th>\n",
       "      <td>https://www.youtube.com//watch?v=iIne-UO7wUo</td>\n",
       "      <td>9 minutes, 18 seconds</td>\n",
       "      <td>An Olympic Champion’s Unwavering Advocacy for ...</td>\n",
       "      <td>25597</td>\n",
       "      <td>Like</td>\n",
       "      <td>53</td>\n",
       "      <td>20 Apr 2022</td>\n",
       "      <td>Getting pregnant as a track and field athlete ...</td>\n",
       "    </tr>\n",
       "    <tr>\n",
       "      <th>3</th>\n",
       "      <td>https://www.youtube.com//watch?v=5T2VRY0LECc</td>\n",
       "      <td>6 minutes, 56 seconds</td>\n",
       "      <td>The African Swamp Protecting Earth's Environme...</td>\n",
       "      <td>21430</td>\n",
       "      <td>633</td>\n",
       "      <td>40</td>\n",
       "      <td>20 Apr 2022</td>\n",
       "      <td>The peatlands of Africa's Congo Basin are a va...</td>\n",
       "    </tr>\n",
       "    <tr>\n",
       "      <th>4</th>\n",
       "      <td>https://www.youtube.com//watch?v=YRvf00NooN8</td>\n",
       "      <td>1 hour, 6 minutes, 25 seconds</td>\n",
       "      <td>Elon Musk: A future worth getting excited abou...</td>\n",
       "      <td>3609893</td>\n",
       "      <td>95000</td>\n",
       "      <td>8757</td>\n",
       "      <td>18 Apr 2022</td>\n",
       "      <td>What's on Elon Musk's mind? In this exclusive ...</td>\n",
       "    </tr>\n",
       "    <tr>\n",
       "      <th>5</th>\n",
       "      <td>https://www.youtube.com//watch?v=cdZZpaB2kDM</td>\n",
       "      <td>54 minutes, 46 seconds</td>\n",
       "      <td>Elon Musk talks Twitter, Tesla and how his bra...</td>\n",
       "      <td>4405481</td>\n",
       "      <td>115000</td>\n",
       "      <td>10444</td>\n",
       "      <td>Streamed live on 14 Apr 2022</td>\n",
       "      <td>In this unedited conversation with head of TED...</td>\n",
       "    </tr>\n",
       "  </tbody>\n",
       "</table>\n",
       "</div>"
      ],
      "text/plain": [
       "                                     video_link  \\\n",
       "1  https://www.youtube.com//watch?v=FrqBWQ-mVEc   \n",
       "2  https://www.youtube.com//watch?v=iIne-UO7wUo   \n",
       "3  https://www.youtube.com//watch?v=5T2VRY0LECc   \n",
       "4  https://www.youtube.com//watch?v=YRvf00NooN8   \n",
       "5  https://www.youtube.com//watch?v=cdZZpaB2kDM   \n",
       "\n",
       "                        duration  \\\n",
       "1          9 minutes, 53 seconds   \n",
       "2          9 minutes, 18 seconds   \n",
       "3          6 minutes, 56 seconds   \n",
       "4  1 hour, 6 minutes, 25 seconds   \n",
       "5         54 minutes, 46 seconds   \n",
       "\n",
       "                                               title    views   likes  \\\n",
       "1  The Future Will Be Shaped by Optimists | Kevin...    51273    1900   \n",
       "2  An Olympic Champion’s Unwavering Advocacy for ...    25597    Like   \n",
       "3  The African Swamp Protecting Earth's Environme...    21430     633   \n",
       "4  Elon Musk: A future worth getting excited abou...  3609893   95000   \n",
       "5  Elon Musk talks Twitter, Tesla and how his bra...  4405481  115000   \n",
       "\n",
       "   comments                          date  \\\n",
       "1       262                   21 Apr 2022   \n",
       "2        53                   20 Apr 2022   \n",
       "3        40                   20 Apr 2022   \n",
       "4      8757                   18 Apr 2022   \n",
       "5     10444  Streamed live on 14 Apr 2022   \n",
       "\n",
       "                                         description  \n",
       "1  \"Every great and difficult thing has required ...  \n",
       "2  Getting pregnant as a track and field athlete ...  \n",
       "3  The peatlands of Africa's Congo Basin are a va...  \n",
       "4  What's on Elon Musk's mind? In this exclusive ...  \n",
       "5  In this unedited conversation with head of TED...  "
      ]
     },
     "execution_count": 13,
     "metadata": {},
     "output_type": "execute_result"
    }
   ],
   "source": [
    "df.head()"
   ]
  },
  {
   "cell_type": "markdown",
   "metadata": {},
   "source": [
    "### 2.d) date column"
   ]
  },
  {
   "cell_type": "code",
   "execution_count": 14,
   "metadata": {
    "execution": {
     "iopub.execute_input": "2022-10-02T07:21:27.050301Z",
     "iopub.status.busy": "2022-10-02T07:21:27.049864Z",
     "iopub.status.idle": "2022-10-02T07:21:27.070451Z",
     "shell.execute_reply": "2022-10-02T07:21:27.069313Z",
     "shell.execute_reply.started": "2022-10-02T07:21:27.050266Z"
    }
   },
   "outputs": [],
   "source": [
    "date = []\n",
    "month = []\n",
    "year = []\n",
    "\n",
    "for i in df['date']:\n",
    "    if 'Streamed' in i:\n",
    "        date.append(int(i.split(' ')[-3:][0]))\n",
    "        month.append(i.split(' ')[-3:][1])\n",
    "        year.append(int(i.split(' ')[-3:][2]))\n",
    "    else:\n",
    "        date.append(int(i.split(' ')[0]))\n",
    "        month.append(i.split(' ')[1])\n",
    "        year.append(int(i.split(' ')[2]))\n",
    "        \n",
    "df['date'] = date\n",
    "df['month'] = month\n",
    "df['year'] = year"
   ]
  },
  {
   "cell_type": "code",
   "execution_count": 15,
   "metadata": {
    "execution": {
     "iopub.execute_input": "2022-10-02T07:21:28.421695Z",
     "iopub.status.busy": "2022-10-02T07:21:28.421293Z",
     "iopub.status.idle": "2022-10-02T07:21:28.438755Z",
     "shell.execute_reply": "2022-10-02T07:21:28.437545Z",
     "shell.execute_reply.started": "2022-10-02T07:21:28.421662Z"
    }
   },
   "outputs": [
    {
     "data": {
      "text/html": [
       "<div>\n",
       "<style scoped>\n",
       "    .dataframe tbody tr th:only-of-type {\n",
       "        vertical-align: middle;\n",
       "    }\n",
       "\n",
       "    .dataframe tbody tr th {\n",
       "        vertical-align: top;\n",
       "    }\n",
       "\n",
       "    .dataframe thead th {\n",
       "        text-align: right;\n",
       "    }\n",
       "</style>\n",
       "<table border=\"1\" class=\"dataframe\">\n",
       "  <thead>\n",
       "    <tr style=\"text-align: right;\">\n",
       "      <th></th>\n",
       "      <th>video_link</th>\n",
       "      <th>duration</th>\n",
       "      <th>title</th>\n",
       "      <th>views</th>\n",
       "      <th>likes</th>\n",
       "      <th>comments</th>\n",
       "      <th>date</th>\n",
       "      <th>description</th>\n",
       "      <th>month</th>\n",
       "      <th>year</th>\n",
       "    </tr>\n",
       "  </thead>\n",
       "  <tbody>\n",
       "    <tr>\n",
       "      <th>1</th>\n",
       "      <td>https://www.youtube.com//watch?v=FrqBWQ-mVEc</td>\n",
       "      <td>9 minutes, 53 seconds</td>\n",
       "      <td>The Future Will Be Shaped by Optimists | Kevin...</td>\n",
       "      <td>51273</td>\n",
       "      <td>1900</td>\n",
       "      <td>262</td>\n",
       "      <td>21</td>\n",
       "      <td>\"Every great and difficult thing has required ...</td>\n",
       "      <td>Apr</td>\n",
       "      <td>2022</td>\n",
       "    </tr>\n",
       "    <tr>\n",
       "      <th>2</th>\n",
       "      <td>https://www.youtube.com//watch?v=iIne-UO7wUo</td>\n",
       "      <td>9 minutes, 18 seconds</td>\n",
       "      <td>An Olympic Champion’s Unwavering Advocacy for ...</td>\n",
       "      <td>25597</td>\n",
       "      <td>Like</td>\n",
       "      <td>53</td>\n",
       "      <td>20</td>\n",
       "      <td>Getting pregnant as a track and field athlete ...</td>\n",
       "      <td>Apr</td>\n",
       "      <td>2022</td>\n",
       "    </tr>\n",
       "    <tr>\n",
       "      <th>3</th>\n",
       "      <td>https://www.youtube.com//watch?v=5T2VRY0LECc</td>\n",
       "      <td>6 minutes, 56 seconds</td>\n",
       "      <td>The African Swamp Protecting Earth's Environme...</td>\n",
       "      <td>21430</td>\n",
       "      <td>633</td>\n",
       "      <td>40</td>\n",
       "      <td>20</td>\n",
       "      <td>The peatlands of Africa's Congo Basin are a va...</td>\n",
       "      <td>Apr</td>\n",
       "      <td>2022</td>\n",
       "    </tr>\n",
       "    <tr>\n",
       "      <th>4</th>\n",
       "      <td>https://www.youtube.com//watch?v=YRvf00NooN8</td>\n",
       "      <td>1 hour, 6 minutes, 25 seconds</td>\n",
       "      <td>Elon Musk: A future worth getting excited abou...</td>\n",
       "      <td>3609893</td>\n",
       "      <td>95000</td>\n",
       "      <td>8757</td>\n",
       "      <td>18</td>\n",
       "      <td>What's on Elon Musk's mind? In this exclusive ...</td>\n",
       "      <td>Apr</td>\n",
       "      <td>2022</td>\n",
       "    </tr>\n",
       "    <tr>\n",
       "      <th>5</th>\n",
       "      <td>https://www.youtube.com//watch?v=cdZZpaB2kDM</td>\n",
       "      <td>54 minutes, 46 seconds</td>\n",
       "      <td>Elon Musk talks Twitter, Tesla and how his bra...</td>\n",
       "      <td>4405481</td>\n",
       "      <td>115000</td>\n",
       "      <td>10444</td>\n",
       "      <td>14</td>\n",
       "      <td>In this unedited conversation with head of TED...</td>\n",
       "      <td>Apr</td>\n",
       "      <td>2022</td>\n",
       "    </tr>\n",
       "  </tbody>\n",
       "</table>\n",
       "</div>"
      ],
      "text/plain": [
       "                                     video_link  \\\n",
       "1  https://www.youtube.com//watch?v=FrqBWQ-mVEc   \n",
       "2  https://www.youtube.com//watch?v=iIne-UO7wUo   \n",
       "3  https://www.youtube.com//watch?v=5T2VRY0LECc   \n",
       "4  https://www.youtube.com//watch?v=YRvf00NooN8   \n",
       "5  https://www.youtube.com//watch?v=cdZZpaB2kDM   \n",
       "\n",
       "                        duration  \\\n",
       "1          9 minutes, 53 seconds   \n",
       "2          9 minutes, 18 seconds   \n",
       "3          6 minutes, 56 seconds   \n",
       "4  1 hour, 6 minutes, 25 seconds   \n",
       "5         54 minutes, 46 seconds   \n",
       "\n",
       "                                               title    views   likes  \\\n",
       "1  The Future Will Be Shaped by Optimists | Kevin...    51273    1900   \n",
       "2  An Olympic Champion’s Unwavering Advocacy for ...    25597    Like   \n",
       "3  The African Swamp Protecting Earth's Environme...    21430     633   \n",
       "4  Elon Musk: A future worth getting excited abou...  3609893   95000   \n",
       "5  Elon Musk talks Twitter, Tesla and how his bra...  4405481  115000   \n",
       "\n",
       "   comments  date                                        description month  \\\n",
       "1       262    21  \"Every great and difficult thing has required ...   Apr   \n",
       "2        53    20  Getting pregnant as a track and field athlete ...   Apr   \n",
       "3        40    20  The peatlands of Africa's Congo Basin are a va...   Apr   \n",
       "4      8757    18  What's on Elon Musk's mind? In this exclusive ...   Apr   \n",
       "5     10444    14  In this unedited conversation with head of TED...   Apr   \n",
       "\n",
       "   year  \n",
       "1  2022  \n",
       "2  2022  \n",
       "3  2022  \n",
       "4  2022  \n",
       "5  2022  "
      ]
     },
     "execution_count": 15,
     "metadata": {},
     "output_type": "execute_result"
    }
   ],
   "source": [
    "df.head()"
   ]
  },
  {
   "cell_type": "code",
   "execution_count": 16,
   "metadata": {
    "execution": {
     "iopub.execute_input": "2022-10-02T07:21:30.119688Z",
     "iopub.status.busy": "2022-10-02T07:21:30.119023Z",
     "iopub.status.idle": "2022-10-02T07:21:30.125566Z",
     "shell.execute_reply": "2022-10-02T07:21:30.124502Z",
     "shell.execute_reply.started": "2022-10-02T07:21:30.119638Z"
    }
   },
   "outputs": [],
   "source": [
    "del df['description']"
   ]
  },
  {
   "cell_type": "code",
   "execution_count": 17,
   "metadata": {
    "execution": {
     "iopub.execute_input": "2022-10-02T07:21:31.647221Z",
     "iopub.status.busy": "2022-10-02T07:21:31.646546Z",
     "iopub.status.idle": "2022-10-02T07:21:31.663086Z",
     "shell.execute_reply": "2022-10-02T07:21:31.661906Z",
     "shell.execute_reply.started": "2022-10-02T07:21:31.647172Z"
    }
   },
   "outputs": [
    {
     "data": {
      "text/html": [
       "<div>\n",
       "<style scoped>\n",
       "    .dataframe tbody tr th:only-of-type {\n",
       "        vertical-align: middle;\n",
       "    }\n",
       "\n",
       "    .dataframe tbody tr th {\n",
       "        vertical-align: top;\n",
       "    }\n",
       "\n",
       "    .dataframe thead th {\n",
       "        text-align: right;\n",
       "    }\n",
       "</style>\n",
       "<table border=\"1\" class=\"dataframe\">\n",
       "  <thead>\n",
       "    <tr style=\"text-align: right;\">\n",
       "      <th></th>\n",
       "      <th>video_link</th>\n",
       "      <th>duration</th>\n",
       "      <th>title</th>\n",
       "      <th>views</th>\n",
       "      <th>likes</th>\n",
       "      <th>comments</th>\n",
       "      <th>date</th>\n",
       "      <th>month</th>\n",
       "      <th>year</th>\n",
       "    </tr>\n",
       "  </thead>\n",
       "  <tbody>\n",
       "    <tr>\n",
       "      <th>1</th>\n",
       "      <td>https://www.youtube.com//watch?v=FrqBWQ-mVEc</td>\n",
       "      <td>9 minutes, 53 seconds</td>\n",
       "      <td>The Future Will Be Shaped by Optimists | Kevin...</td>\n",
       "      <td>51273</td>\n",
       "      <td>1900</td>\n",
       "      <td>262</td>\n",
       "      <td>21</td>\n",
       "      <td>Apr</td>\n",
       "      <td>2022</td>\n",
       "    </tr>\n",
       "    <tr>\n",
       "      <th>2</th>\n",
       "      <td>https://www.youtube.com//watch?v=iIne-UO7wUo</td>\n",
       "      <td>9 minutes, 18 seconds</td>\n",
       "      <td>An Olympic Champion’s Unwavering Advocacy for ...</td>\n",
       "      <td>25597</td>\n",
       "      <td>Like</td>\n",
       "      <td>53</td>\n",
       "      <td>20</td>\n",
       "      <td>Apr</td>\n",
       "      <td>2022</td>\n",
       "    </tr>\n",
       "    <tr>\n",
       "      <th>3</th>\n",
       "      <td>https://www.youtube.com//watch?v=5T2VRY0LECc</td>\n",
       "      <td>6 minutes, 56 seconds</td>\n",
       "      <td>The African Swamp Protecting Earth's Environme...</td>\n",
       "      <td>21430</td>\n",
       "      <td>633</td>\n",
       "      <td>40</td>\n",
       "      <td>20</td>\n",
       "      <td>Apr</td>\n",
       "      <td>2022</td>\n",
       "    </tr>\n",
       "    <tr>\n",
       "      <th>4</th>\n",
       "      <td>https://www.youtube.com//watch?v=YRvf00NooN8</td>\n",
       "      <td>1 hour, 6 minutes, 25 seconds</td>\n",
       "      <td>Elon Musk: A future worth getting excited abou...</td>\n",
       "      <td>3609893</td>\n",
       "      <td>95000</td>\n",
       "      <td>8757</td>\n",
       "      <td>18</td>\n",
       "      <td>Apr</td>\n",
       "      <td>2022</td>\n",
       "    </tr>\n",
       "    <tr>\n",
       "      <th>5</th>\n",
       "      <td>https://www.youtube.com//watch?v=cdZZpaB2kDM</td>\n",
       "      <td>54 minutes, 46 seconds</td>\n",
       "      <td>Elon Musk talks Twitter, Tesla and how his bra...</td>\n",
       "      <td>4405481</td>\n",
       "      <td>115000</td>\n",
       "      <td>10444</td>\n",
       "      <td>14</td>\n",
       "      <td>Apr</td>\n",
       "      <td>2022</td>\n",
       "    </tr>\n",
       "  </tbody>\n",
       "</table>\n",
       "</div>"
      ],
      "text/plain": [
       "                                     video_link  \\\n",
       "1  https://www.youtube.com//watch?v=FrqBWQ-mVEc   \n",
       "2  https://www.youtube.com//watch?v=iIne-UO7wUo   \n",
       "3  https://www.youtube.com//watch?v=5T2VRY0LECc   \n",
       "4  https://www.youtube.com//watch?v=YRvf00NooN8   \n",
       "5  https://www.youtube.com//watch?v=cdZZpaB2kDM   \n",
       "\n",
       "                        duration  \\\n",
       "1          9 minutes, 53 seconds   \n",
       "2          9 minutes, 18 seconds   \n",
       "3          6 minutes, 56 seconds   \n",
       "4  1 hour, 6 minutes, 25 seconds   \n",
       "5         54 minutes, 46 seconds   \n",
       "\n",
       "                                               title    views   likes  \\\n",
       "1  The Future Will Be Shaped by Optimists | Kevin...    51273    1900   \n",
       "2  An Olympic Champion’s Unwavering Advocacy for ...    25597    Like   \n",
       "3  The African Swamp Protecting Earth's Environme...    21430     633   \n",
       "4  Elon Musk: A future worth getting excited abou...  3609893   95000   \n",
       "5  Elon Musk talks Twitter, Tesla and how his bra...  4405481  115000   \n",
       "\n",
       "   comments  date month  year  \n",
       "1       262    21   Apr  2022  \n",
       "2        53    20   Apr  2022  \n",
       "3        40    20   Apr  2022  \n",
       "4      8757    18   Apr  2022  \n",
       "5     10444    14   Apr  2022  "
      ]
     },
     "execution_count": 17,
     "metadata": {},
     "output_type": "execute_result"
    }
   ],
   "source": [
    "df.head()"
   ]
  },
  {
   "cell_type": "markdown",
   "metadata": {},
   "source": [
    "### 2.5) month column"
   ]
  },
  {
   "cell_type": "code",
   "execution_count": 18,
   "metadata": {
    "execution": {
     "iopub.execute_input": "2022-10-02T07:21:34.992067Z",
     "iopub.status.busy": "2022-10-02T07:21:34.991685Z",
     "iopub.status.idle": "2022-10-02T07:21:35.000473Z",
     "shell.execute_reply": "2022-10-02T07:21:34.999220Z",
     "shell.execute_reply.started": "2022-10-02T07:21:34.992035Z"
    }
   },
   "outputs": [
    {
     "data": {
      "text/plain": [
       "array(['Apr', 'Mar', 'Feb', 'Jan', 'Dec', 'Nov', 'Oct', 'Sept', 'Aug',\n",
       "       'Jul', 'Jun', 'May'], dtype=object)"
      ]
     },
     "execution_count": 18,
     "metadata": {},
     "output_type": "execute_result"
    }
   ],
   "source": [
    "df['month'].unique()"
   ]
  },
  {
   "cell_type": "code",
   "execution_count": 19,
   "metadata": {
    "execution": {
     "iopub.execute_input": "2022-10-02T07:21:36.836839Z",
     "iopub.status.busy": "2022-10-02T07:21:36.836444Z",
     "iopub.status.idle": "2022-10-02T07:21:36.842781Z",
     "shell.execute_reply": "2022-10-02T07:21:36.841563Z",
     "shell.execute_reply.started": "2022-10-02T07:21:36.836806Z"
    }
   },
   "outputs": [],
   "source": [
    "dct = {\n",
    "    'Jan':1,\n",
    "    'Feb':2,\n",
    "    'Mar':3,\n",
    "    'Apr':4,\n",
    "    'May':5,\n",
    "    'Jun':6,\n",
    "    'Jul':7,\n",
    "    'Aug':8,\n",
    "    'Sept':9,\n",
    "    'Oct':10,\n",
    "    'Nov':11,\n",
    "    'Dec':12\n",
    "}"
   ]
  },
  {
   "cell_type": "code",
   "execution_count": 20,
   "metadata": {
    "execution": {
     "iopub.execute_input": "2022-10-02T07:21:37.322644Z",
     "iopub.status.busy": "2022-10-02T07:21:37.322227Z",
     "iopub.status.idle": "2022-10-02T07:21:37.331796Z",
     "shell.execute_reply": "2022-10-02T07:21:37.330528Z",
     "shell.execute_reply.started": "2022-10-02T07:21:37.322610Z"
    }
   },
   "outputs": [],
   "source": [
    "months = []\n",
    "for i in df['month']:\n",
    "    months.append(dct[i])\n",
    "\n",
    "df['month'] = months"
   ]
  },
  {
   "cell_type": "code",
   "execution_count": 21,
   "metadata": {
    "execution": {
     "iopub.execute_input": "2022-10-02T07:21:38.256096Z",
     "iopub.status.busy": "2022-10-02T07:21:38.255696Z",
     "iopub.status.idle": "2022-10-02T07:21:38.269834Z",
     "shell.execute_reply": "2022-10-02T07:21:38.268926Z",
     "shell.execute_reply.started": "2022-10-02T07:21:38.256064Z"
    }
   },
   "outputs": [
    {
     "data": {
      "text/html": [
       "<div>\n",
       "<style scoped>\n",
       "    .dataframe tbody tr th:only-of-type {\n",
       "        vertical-align: middle;\n",
       "    }\n",
       "\n",
       "    .dataframe tbody tr th {\n",
       "        vertical-align: top;\n",
       "    }\n",
       "\n",
       "    .dataframe thead th {\n",
       "        text-align: right;\n",
       "    }\n",
       "</style>\n",
       "<table border=\"1\" class=\"dataframe\">\n",
       "  <thead>\n",
       "    <tr style=\"text-align: right;\">\n",
       "      <th></th>\n",
       "      <th>video_link</th>\n",
       "      <th>duration</th>\n",
       "      <th>title</th>\n",
       "      <th>views</th>\n",
       "      <th>likes</th>\n",
       "      <th>comments</th>\n",
       "      <th>date</th>\n",
       "      <th>month</th>\n",
       "      <th>year</th>\n",
       "    </tr>\n",
       "  </thead>\n",
       "  <tbody>\n",
       "    <tr>\n",
       "      <th>1</th>\n",
       "      <td>https://www.youtube.com//watch?v=FrqBWQ-mVEc</td>\n",
       "      <td>9 minutes, 53 seconds</td>\n",
       "      <td>The Future Will Be Shaped by Optimists | Kevin...</td>\n",
       "      <td>51273</td>\n",
       "      <td>1900</td>\n",
       "      <td>262</td>\n",
       "      <td>21</td>\n",
       "      <td>4</td>\n",
       "      <td>2022</td>\n",
       "    </tr>\n",
       "    <tr>\n",
       "      <th>2</th>\n",
       "      <td>https://www.youtube.com//watch?v=iIne-UO7wUo</td>\n",
       "      <td>9 minutes, 18 seconds</td>\n",
       "      <td>An Olympic Champion’s Unwavering Advocacy for ...</td>\n",
       "      <td>25597</td>\n",
       "      <td>Like</td>\n",
       "      <td>53</td>\n",
       "      <td>20</td>\n",
       "      <td>4</td>\n",
       "      <td>2022</td>\n",
       "    </tr>\n",
       "    <tr>\n",
       "      <th>3</th>\n",
       "      <td>https://www.youtube.com//watch?v=5T2VRY0LECc</td>\n",
       "      <td>6 minutes, 56 seconds</td>\n",
       "      <td>The African Swamp Protecting Earth's Environme...</td>\n",
       "      <td>21430</td>\n",
       "      <td>633</td>\n",
       "      <td>40</td>\n",
       "      <td>20</td>\n",
       "      <td>4</td>\n",
       "      <td>2022</td>\n",
       "    </tr>\n",
       "    <tr>\n",
       "      <th>4</th>\n",
       "      <td>https://www.youtube.com//watch?v=YRvf00NooN8</td>\n",
       "      <td>1 hour, 6 minutes, 25 seconds</td>\n",
       "      <td>Elon Musk: A future worth getting excited abou...</td>\n",
       "      <td>3609893</td>\n",
       "      <td>95000</td>\n",
       "      <td>8757</td>\n",
       "      <td>18</td>\n",
       "      <td>4</td>\n",
       "      <td>2022</td>\n",
       "    </tr>\n",
       "    <tr>\n",
       "      <th>5</th>\n",
       "      <td>https://www.youtube.com//watch?v=cdZZpaB2kDM</td>\n",
       "      <td>54 minutes, 46 seconds</td>\n",
       "      <td>Elon Musk talks Twitter, Tesla and how his bra...</td>\n",
       "      <td>4405481</td>\n",
       "      <td>115000</td>\n",
       "      <td>10444</td>\n",
       "      <td>14</td>\n",
       "      <td>4</td>\n",
       "      <td>2022</td>\n",
       "    </tr>\n",
       "  </tbody>\n",
       "</table>\n",
       "</div>"
      ],
      "text/plain": [
       "                                     video_link  \\\n",
       "1  https://www.youtube.com//watch?v=FrqBWQ-mVEc   \n",
       "2  https://www.youtube.com//watch?v=iIne-UO7wUo   \n",
       "3  https://www.youtube.com//watch?v=5T2VRY0LECc   \n",
       "4  https://www.youtube.com//watch?v=YRvf00NooN8   \n",
       "5  https://www.youtube.com//watch?v=cdZZpaB2kDM   \n",
       "\n",
       "                        duration  \\\n",
       "1          9 minutes, 53 seconds   \n",
       "2          9 minutes, 18 seconds   \n",
       "3          6 minutes, 56 seconds   \n",
       "4  1 hour, 6 minutes, 25 seconds   \n",
       "5         54 minutes, 46 seconds   \n",
       "\n",
       "                                               title    views   likes  \\\n",
       "1  The Future Will Be Shaped by Optimists | Kevin...    51273    1900   \n",
       "2  An Olympic Champion’s Unwavering Advocacy for ...    25597    Like   \n",
       "3  The African Swamp Protecting Earth's Environme...    21430     633   \n",
       "4  Elon Musk: A future worth getting excited abou...  3609893   95000   \n",
       "5  Elon Musk talks Twitter, Tesla and how his bra...  4405481  115000   \n",
       "\n",
       "   comments  date  month  year  \n",
       "1       262    21      4  2022  \n",
       "2        53    20      4  2022  \n",
       "3        40    20      4  2022  \n",
       "4      8757    18      4  2022  \n",
       "5     10444    14      4  2022  "
      ]
     },
     "execution_count": 21,
     "metadata": {},
     "output_type": "execute_result"
    }
   ],
   "source": [
    "df.head()"
   ]
  },
  {
   "cell_type": "markdown",
   "metadata": {},
   "source": [
    "### 2.e) Combining Day, Month and year"
   ]
  },
  {
   "cell_type": "code",
   "execution_count": 22,
   "metadata": {
    "execution": {
     "iopub.execute_input": "2022-10-02T07:21:58.001732Z",
     "iopub.status.busy": "2022-10-02T07:21:58.000448Z",
     "iopub.status.idle": "2022-10-02T07:21:58.016009Z",
     "shell.execute_reply": "2022-10-02T07:21:58.015072Z",
     "shell.execute_reply.started": "2022-10-02T07:21:58.001688Z"
    }
   },
   "outputs": [],
   "source": [
    "date_month_year = []\n",
    "\n",
    "for i in df.values[:, -3:]:\n",
    "    date_month_year.append(str(i[0]) +'/'+ str(i[1]) +'/'+ str(i[2]))\n",
    "    \n",
    "df['date_month_year'] = date_month_year"
   ]
  },
  {
   "cell_type": "code",
   "execution_count": 23,
   "metadata": {
    "execution": {
     "iopub.execute_input": "2022-10-02T07:21:59.073026Z",
     "iopub.status.busy": "2022-10-02T07:21:59.071987Z",
     "iopub.status.idle": "2022-10-02T07:21:59.088159Z",
     "shell.execute_reply": "2022-10-02T07:21:59.086974Z",
     "shell.execute_reply.started": "2022-10-02T07:21:59.072986Z"
    }
   },
   "outputs": [
    {
     "data": {
      "text/html": [
       "<div>\n",
       "<style scoped>\n",
       "    .dataframe tbody tr th:only-of-type {\n",
       "        vertical-align: middle;\n",
       "    }\n",
       "\n",
       "    .dataframe tbody tr th {\n",
       "        vertical-align: top;\n",
       "    }\n",
       "\n",
       "    .dataframe thead th {\n",
       "        text-align: right;\n",
       "    }\n",
       "</style>\n",
       "<table border=\"1\" class=\"dataframe\">\n",
       "  <thead>\n",
       "    <tr style=\"text-align: right;\">\n",
       "      <th></th>\n",
       "      <th>video_link</th>\n",
       "      <th>duration</th>\n",
       "      <th>title</th>\n",
       "      <th>views</th>\n",
       "      <th>likes</th>\n",
       "      <th>comments</th>\n",
       "      <th>date</th>\n",
       "      <th>month</th>\n",
       "      <th>year</th>\n",
       "      <th>date_month_year</th>\n",
       "    </tr>\n",
       "  </thead>\n",
       "  <tbody>\n",
       "    <tr>\n",
       "      <th>1</th>\n",
       "      <td>https://www.youtube.com//watch?v=FrqBWQ-mVEc</td>\n",
       "      <td>9 minutes, 53 seconds</td>\n",
       "      <td>The Future Will Be Shaped by Optimists | Kevin...</td>\n",
       "      <td>51273</td>\n",
       "      <td>1900</td>\n",
       "      <td>262</td>\n",
       "      <td>21</td>\n",
       "      <td>4</td>\n",
       "      <td>2022</td>\n",
       "      <td>21/4/2022</td>\n",
       "    </tr>\n",
       "    <tr>\n",
       "      <th>2</th>\n",
       "      <td>https://www.youtube.com//watch?v=iIne-UO7wUo</td>\n",
       "      <td>9 minutes, 18 seconds</td>\n",
       "      <td>An Olympic Champion’s Unwavering Advocacy for ...</td>\n",
       "      <td>25597</td>\n",
       "      <td>Like</td>\n",
       "      <td>53</td>\n",
       "      <td>20</td>\n",
       "      <td>4</td>\n",
       "      <td>2022</td>\n",
       "      <td>20/4/2022</td>\n",
       "    </tr>\n",
       "    <tr>\n",
       "      <th>3</th>\n",
       "      <td>https://www.youtube.com//watch?v=5T2VRY0LECc</td>\n",
       "      <td>6 minutes, 56 seconds</td>\n",
       "      <td>The African Swamp Protecting Earth's Environme...</td>\n",
       "      <td>21430</td>\n",
       "      <td>633</td>\n",
       "      <td>40</td>\n",
       "      <td>20</td>\n",
       "      <td>4</td>\n",
       "      <td>2022</td>\n",
       "      <td>20/4/2022</td>\n",
       "    </tr>\n",
       "    <tr>\n",
       "      <th>4</th>\n",
       "      <td>https://www.youtube.com//watch?v=YRvf00NooN8</td>\n",
       "      <td>1 hour, 6 minutes, 25 seconds</td>\n",
       "      <td>Elon Musk: A future worth getting excited abou...</td>\n",
       "      <td>3609893</td>\n",
       "      <td>95000</td>\n",
       "      <td>8757</td>\n",
       "      <td>18</td>\n",
       "      <td>4</td>\n",
       "      <td>2022</td>\n",
       "      <td>18/4/2022</td>\n",
       "    </tr>\n",
       "    <tr>\n",
       "      <th>5</th>\n",
       "      <td>https://www.youtube.com//watch?v=cdZZpaB2kDM</td>\n",
       "      <td>54 minutes, 46 seconds</td>\n",
       "      <td>Elon Musk talks Twitter, Tesla and how his bra...</td>\n",
       "      <td>4405481</td>\n",
       "      <td>115000</td>\n",
       "      <td>10444</td>\n",
       "      <td>14</td>\n",
       "      <td>4</td>\n",
       "      <td>2022</td>\n",
       "      <td>14/4/2022</td>\n",
       "    </tr>\n",
       "  </tbody>\n",
       "</table>\n",
       "</div>"
      ],
      "text/plain": [
       "                                     video_link  \\\n",
       "1  https://www.youtube.com//watch?v=FrqBWQ-mVEc   \n",
       "2  https://www.youtube.com//watch?v=iIne-UO7wUo   \n",
       "3  https://www.youtube.com//watch?v=5T2VRY0LECc   \n",
       "4  https://www.youtube.com//watch?v=YRvf00NooN8   \n",
       "5  https://www.youtube.com//watch?v=cdZZpaB2kDM   \n",
       "\n",
       "                        duration  \\\n",
       "1          9 minutes, 53 seconds   \n",
       "2          9 minutes, 18 seconds   \n",
       "3          6 minutes, 56 seconds   \n",
       "4  1 hour, 6 minutes, 25 seconds   \n",
       "5         54 minutes, 46 seconds   \n",
       "\n",
       "                                               title    views   likes  \\\n",
       "1  The Future Will Be Shaped by Optimists | Kevin...    51273    1900   \n",
       "2  An Olympic Champion’s Unwavering Advocacy for ...    25597    Like   \n",
       "3  The African Swamp Protecting Earth's Environme...    21430     633   \n",
       "4  Elon Musk: A future worth getting excited abou...  3609893   95000   \n",
       "5  Elon Musk talks Twitter, Tesla and how his bra...  4405481  115000   \n",
       "\n",
       "   comments  date  month  year date_month_year  \n",
       "1       262    21      4  2022       21/4/2022  \n",
       "2        53    20      4  2022       20/4/2022  \n",
       "3        40    20      4  2022       20/4/2022  \n",
       "4      8757    18      4  2022       18/4/2022  \n",
       "5     10444    14      4  2022       14/4/2022  "
      ]
     },
     "execution_count": 23,
     "metadata": {},
     "output_type": "execute_result"
    }
   ],
   "source": [
    "df.head()"
   ]
  },
  {
   "cell_type": "markdown",
   "metadata": {},
   "source": [
    "### 2.f) Fill 'Likes' with views-like ratio"
   ]
  },
  {
   "cell_type": "code",
   "execution_count": 24,
   "metadata": {
    "execution": {
     "iopub.execute_input": "2022-10-02T07:22:02.666165Z",
     "iopub.status.busy": "2022-10-02T07:22:02.665776Z",
     "iopub.status.idle": "2022-10-02T07:22:02.677688Z",
     "shell.execute_reply": "2022-10-02T07:22:02.676380Z",
     "shell.execute_reply.started": "2022-10-02T07:22:02.666131Z"
    }
   },
   "outputs": [],
   "source": [
    "ratios = []\n",
    "for i in df.values[:, 3:5]:\n",
    "    if (i[1] != 'Like'):\n",
    "        ratios.append(i[0]/i[1])\n",
    "        \n",
    "ratio = int(sum(ratios)/len(ratios))"
   ]
  },
  {
   "cell_type": "code",
   "execution_count": 25,
   "metadata": {
    "execution": {
     "iopub.execute_input": "2022-10-02T07:22:03.611230Z",
     "iopub.status.busy": "2022-10-02T07:22:03.610841Z",
     "iopub.status.idle": "2022-10-02T07:22:03.618825Z",
     "shell.execute_reply": "2022-10-02T07:22:03.617539Z",
     "shell.execute_reply.started": "2022-10-02T07:22:03.611197Z"
    }
   },
   "outputs": [
    {
     "data": {
      "text/plain": [
       "72"
      ]
     },
     "execution_count": 25,
     "metadata": {},
     "output_type": "execute_result"
    }
   ],
   "source": [
    "ratio"
   ]
  },
  {
   "cell_type": "code",
   "execution_count": 26,
   "metadata": {
    "execution": {
     "iopub.execute_input": "2022-10-02T07:22:04.998454Z",
     "iopub.status.busy": "2022-10-02T07:22:04.997952Z",
     "iopub.status.idle": "2022-10-02T07:22:05.014203Z",
     "shell.execute_reply": "2022-10-02T07:22:05.012900Z",
     "shell.execute_reply.started": "2022-10-02T07:22:04.998412Z"
    }
   },
   "outputs": [],
   "source": [
    "likes = []\n",
    "for i in df.values[:, 3:5]:\n",
    "    if i[1] == 'Like':\n",
    "        likes.append(int(i[0]/ratio))\n",
    "    else:\n",
    "        likes.append(i[1])\n",
    "        \n",
    "df['likes'] = likes"
   ]
  },
  {
   "cell_type": "code",
   "execution_count": 27,
   "metadata": {
    "execution": {
     "iopub.execute_input": "2022-10-02T07:22:05.890983Z",
     "iopub.status.busy": "2022-10-02T07:22:05.890133Z",
     "iopub.status.idle": "2022-10-02T07:22:05.907103Z",
     "shell.execute_reply": "2022-10-02T07:22:05.905730Z",
     "shell.execute_reply.started": "2022-10-02T07:22:05.890935Z"
    }
   },
   "outputs": [
    {
     "data": {
      "text/html": [
       "<div>\n",
       "<style scoped>\n",
       "    .dataframe tbody tr th:only-of-type {\n",
       "        vertical-align: middle;\n",
       "    }\n",
       "\n",
       "    .dataframe tbody tr th {\n",
       "        vertical-align: top;\n",
       "    }\n",
       "\n",
       "    .dataframe thead th {\n",
       "        text-align: right;\n",
       "    }\n",
       "</style>\n",
       "<table border=\"1\" class=\"dataframe\">\n",
       "  <thead>\n",
       "    <tr style=\"text-align: right;\">\n",
       "      <th></th>\n",
       "      <th>video_link</th>\n",
       "      <th>duration</th>\n",
       "      <th>title</th>\n",
       "      <th>views</th>\n",
       "      <th>likes</th>\n",
       "      <th>comments</th>\n",
       "      <th>date</th>\n",
       "      <th>month</th>\n",
       "      <th>year</th>\n",
       "      <th>date_month_year</th>\n",
       "    </tr>\n",
       "  </thead>\n",
       "  <tbody>\n",
       "    <tr>\n",
       "      <th>1</th>\n",
       "      <td>https://www.youtube.com//watch?v=FrqBWQ-mVEc</td>\n",
       "      <td>9 minutes, 53 seconds</td>\n",
       "      <td>The Future Will Be Shaped by Optimists | Kevin...</td>\n",
       "      <td>51273</td>\n",
       "      <td>1900</td>\n",
       "      <td>262</td>\n",
       "      <td>21</td>\n",
       "      <td>4</td>\n",
       "      <td>2022</td>\n",
       "      <td>21/4/2022</td>\n",
       "    </tr>\n",
       "    <tr>\n",
       "      <th>2</th>\n",
       "      <td>https://www.youtube.com//watch?v=iIne-UO7wUo</td>\n",
       "      <td>9 minutes, 18 seconds</td>\n",
       "      <td>An Olympic Champion’s Unwavering Advocacy for ...</td>\n",
       "      <td>25597</td>\n",
       "      <td>355</td>\n",
       "      <td>53</td>\n",
       "      <td>20</td>\n",
       "      <td>4</td>\n",
       "      <td>2022</td>\n",
       "      <td>20/4/2022</td>\n",
       "    </tr>\n",
       "    <tr>\n",
       "      <th>3</th>\n",
       "      <td>https://www.youtube.com//watch?v=5T2VRY0LECc</td>\n",
       "      <td>6 minutes, 56 seconds</td>\n",
       "      <td>The African Swamp Protecting Earth's Environme...</td>\n",
       "      <td>21430</td>\n",
       "      <td>633</td>\n",
       "      <td>40</td>\n",
       "      <td>20</td>\n",
       "      <td>4</td>\n",
       "      <td>2022</td>\n",
       "      <td>20/4/2022</td>\n",
       "    </tr>\n",
       "    <tr>\n",
       "      <th>4</th>\n",
       "      <td>https://www.youtube.com//watch?v=YRvf00NooN8</td>\n",
       "      <td>1 hour, 6 minutes, 25 seconds</td>\n",
       "      <td>Elon Musk: A future worth getting excited abou...</td>\n",
       "      <td>3609893</td>\n",
       "      <td>95000</td>\n",
       "      <td>8757</td>\n",
       "      <td>18</td>\n",
       "      <td>4</td>\n",
       "      <td>2022</td>\n",
       "      <td>18/4/2022</td>\n",
       "    </tr>\n",
       "    <tr>\n",
       "      <th>5</th>\n",
       "      <td>https://www.youtube.com//watch?v=cdZZpaB2kDM</td>\n",
       "      <td>54 minutes, 46 seconds</td>\n",
       "      <td>Elon Musk talks Twitter, Tesla and how his bra...</td>\n",
       "      <td>4405481</td>\n",
       "      <td>115000</td>\n",
       "      <td>10444</td>\n",
       "      <td>14</td>\n",
       "      <td>4</td>\n",
       "      <td>2022</td>\n",
       "      <td>14/4/2022</td>\n",
       "    </tr>\n",
       "  </tbody>\n",
       "</table>\n",
       "</div>"
      ],
      "text/plain": [
       "                                     video_link  \\\n",
       "1  https://www.youtube.com//watch?v=FrqBWQ-mVEc   \n",
       "2  https://www.youtube.com//watch?v=iIne-UO7wUo   \n",
       "3  https://www.youtube.com//watch?v=5T2VRY0LECc   \n",
       "4  https://www.youtube.com//watch?v=YRvf00NooN8   \n",
       "5  https://www.youtube.com//watch?v=cdZZpaB2kDM   \n",
       "\n",
       "                        duration  \\\n",
       "1          9 minutes, 53 seconds   \n",
       "2          9 minutes, 18 seconds   \n",
       "3          6 minutes, 56 seconds   \n",
       "4  1 hour, 6 minutes, 25 seconds   \n",
       "5         54 minutes, 46 seconds   \n",
       "\n",
       "                                               title    views   likes  \\\n",
       "1  The Future Will Be Shaped by Optimists | Kevin...    51273    1900   \n",
       "2  An Olympic Champion’s Unwavering Advocacy for ...    25597     355   \n",
       "3  The African Swamp Protecting Earth's Environme...    21430     633   \n",
       "4  Elon Musk: A future worth getting excited abou...  3609893   95000   \n",
       "5  Elon Musk talks Twitter, Tesla and how his bra...  4405481  115000   \n",
       "\n",
       "   comments  date  month  year date_month_year  \n",
       "1       262    21      4  2022       21/4/2022  \n",
       "2        53    20      4  2022       20/4/2022  \n",
       "3        40    20      4  2022       20/4/2022  \n",
       "4      8757    18      4  2022       18/4/2022  \n",
       "5     10444    14      4  2022       14/4/2022  "
      ]
     },
     "execution_count": 27,
     "metadata": {},
     "output_type": "execute_result"
    }
   ],
   "source": [
    "df.head()"
   ]
  },
  {
   "cell_type": "markdown",
   "metadata": {},
   "source": [
    "### Q) Finding Day of publishing every video"
   ]
  },
  {
   "cell_type": "code",
   "execution_count": 28,
   "metadata": {
    "execution": {
     "iopub.execute_input": "2022-10-02T07:22:41.648516Z",
     "iopub.status.busy": "2022-10-02T07:22:41.648101Z",
     "iopub.status.idle": "2022-10-02T07:22:41.674971Z",
     "shell.execute_reply": "2022-10-02T07:22:41.673614Z",
     "shell.execute_reply.started": "2022-10-02T07:22:41.648482Z"
    }
   },
   "outputs": [],
   "source": [
    "day = []\n",
    "\n",
    "for i in df['date_month_year']:\n",
    "   day.append(datetime.date(int(i.split('/')[2]), int(i.split('/')[1]), int(i.split('/')[0])).strftime(\"%a\"))\n",
    "\n",
    "df['day'] = day"
   ]
  },
  {
   "cell_type": "code",
   "execution_count": 29,
   "metadata": {
    "execution": {
     "iopub.execute_input": "2022-10-02T07:22:47.626032Z",
     "iopub.status.busy": "2022-10-02T07:22:47.625623Z",
     "iopub.status.idle": "2022-10-02T07:22:47.642925Z",
     "shell.execute_reply": "2022-10-02T07:22:47.641694Z",
     "shell.execute_reply.started": "2022-10-02T07:22:47.625999Z"
    }
   },
   "outputs": [
    {
     "data": {
      "text/html": [
       "<div>\n",
       "<style scoped>\n",
       "    .dataframe tbody tr th:only-of-type {\n",
       "        vertical-align: middle;\n",
       "    }\n",
       "\n",
       "    .dataframe tbody tr th {\n",
       "        vertical-align: top;\n",
       "    }\n",
       "\n",
       "    .dataframe thead th {\n",
       "        text-align: right;\n",
       "    }\n",
       "</style>\n",
       "<table border=\"1\" class=\"dataframe\">\n",
       "  <thead>\n",
       "    <tr style=\"text-align: right;\">\n",
       "      <th></th>\n",
       "      <th>video_link</th>\n",
       "      <th>duration</th>\n",
       "      <th>title</th>\n",
       "      <th>views</th>\n",
       "      <th>likes</th>\n",
       "      <th>comments</th>\n",
       "      <th>date</th>\n",
       "      <th>month</th>\n",
       "      <th>year</th>\n",
       "      <th>date_month_year</th>\n",
       "      <th>day</th>\n",
       "    </tr>\n",
       "  </thead>\n",
       "  <tbody>\n",
       "    <tr>\n",
       "      <th>1</th>\n",
       "      <td>https://www.youtube.com//watch?v=FrqBWQ-mVEc</td>\n",
       "      <td>9 minutes, 53 seconds</td>\n",
       "      <td>The Future Will Be Shaped by Optimists | Kevin...</td>\n",
       "      <td>51273</td>\n",
       "      <td>1900</td>\n",
       "      <td>262</td>\n",
       "      <td>21</td>\n",
       "      <td>4</td>\n",
       "      <td>2022</td>\n",
       "      <td>21/4/2022</td>\n",
       "      <td>Thu</td>\n",
       "    </tr>\n",
       "    <tr>\n",
       "      <th>2</th>\n",
       "      <td>https://www.youtube.com//watch?v=iIne-UO7wUo</td>\n",
       "      <td>9 minutes, 18 seconds</td>\n",
       "      <td>An Olympic Champion’s Unwavering Advocacy for ...</td>\n",
       "      <td>25597</td>\n",
       "      <td>355</td>\n",
       "      <td>53</td>\n",
       "      <td>20</td>\n",
       "      <td>4</td>\n",
       "      <td>2022</td>\n",
       "      <td>20/4/2022</td>\n",
       "      <td>Wed</td>\n",
       "    </tr>\n",
       "    <tr>\n",
       "      <th>3</th>\n",
       "      <td>https://www.youtube.com//watch?v=5T2VRY0LECc</td>\n",
       "      <td>6 minutes, 56 seconds</td>\n",
       "      <td>The African Swamp Protecting Earth's Environme...</td>\n",
       "      <td>21430</td>\n",
       "      <td>633</td>\n",
       "      <td>40</td>\n",
       "      <td>20</td>\n",
       "      <td>4</td>\n",
       "      <td>2022</td>\n",
       "      <td>20/4/2022</td>\n",
       "      <td>Wed</td>\n",
       "    </tr>\n",
       "    <tr>\n",
       "      <th>4</th>\n",
       "      <td>https://www.youtube.com//watch?v=YRvf00NooN8</td>\n",
       "      <td>1 hour, 6 minutes, 25 seconds</td>\n",
       "      <td>Elon Musk: A future worth getting excited abou...</td>\n",
       "      <td>3609893</td>\n",
       "      <td>95000</td>\n",
       "      <td>8757</td>\n",
       "      <td>18</td>\n",
       "      <td>4</td>\n",
       "      <td>2022</td>\n",
       "      <td>18/4/2022</td>\n",
       "      <td>Mon</td>\n",
       "    </tr>\n",
       "    <tr>\n",
       "      <th>5</th>\n",
       "      <td>https://www.youtube.com//watch?v=cdZZpaB2kDM</td>\n",
       "      <td>54 minutes, 46 seconds</td>\n",
       "      <td>Elon Musk talks Twitter, Tesla and how his bra...</td>\n",
       "      <td>4405481</td>\n",
       "      <td>115000</td>\n",
       "      <td>10444</td>\n",
       "      <td>14</td>\n",
       "      <td>4</td>\n",
       "      <td>2022</td>\n",
       "      <td>14/4/2022</td>\n",
       "      <td>Thu</td>\n",
       "    </tr>\n",
       "  </tbody>\n",
       "</table>\n",
       "</div>"
      ],
      "text/plain": [
       "                                     video_link  \\\n",
       "1  https://www.youtube.com//watch?v=FrqBWQ-mVEc   \n",
       "2  https://www.youtube.com//watch?v=iIne-UO7wUo   \n",
       "3  https://www.youtube.com//watch?v=5T2VRY0LECc   \n",
       "4  https://www.youtube.com//watch?v=YRvf00NooN8   \n",
       "5  https://www.youtube.com//watch?v=cdZZpaB2kDM   \n",
       "\n",
       "                        duration  \\\n",
       "1          9 minutes, 53 seconds   \n",
       "2          9 minutes, 18 seconds   \n",
       "3          6 minutes, 56 seconds   \n",
       "4  1 hour, 6 minutes, 25 seconds   \n",
       "5         54 minutes, 46 seconds   \n",
       "\n",
       "                                               title    views   likes  \\\n",
       "1  The Future Will Be Shaped by Optimists | Kevin...    51273    1900   \n",
       "2  An Olympic Champion’s Unwavering Advocacy for ...    25597     355   \n",
       "3  The African Swamp Protecting Earth's Environme...    21430     633   \n",
       "4  Elon Musk: A future worth getting excited abou...  3609893   95000   \n",
       "5  Elon Musk talks Twitter, Tesla and how his bra...  4405481  115000   \n",
       "\n",
       "   comments  date  month  year date_month_year  day  \n",
       "1       262    21      4  2022       21/4/2022  Thu  \n",
       "2        53    20      4  2022       20/4/2022  Wed  \n",
       "3        40    20      4  2022       20/4/2022  Wed  \n",
       "4      8757    18      4  2022       18/4/2022  Mon  \n",
       "5     10444    14      4  2022       14/4/2022  Thu  "
      ]
     },
     "execution_count": 29,
     "metadata": {},
     "output_type": "execute_result"
    }
   ],
   "source": [
    "df.head()"
   ]
  },
  {
   "cell_type": "markdown",
   "metadata": {},
   "source": [
    "### 2.g) Duration column"
   ]
  },
  {
   "cell_type": "code",
   "execution_count": 30,
   "metadata": {
    "execution": {
     "iopub.execute_input": "2022-10-02T07:41:07.270065Z",
     "iopub.status.busy": "2022-10-02T07:41:07.268943Z",
     "iopub.status.idle": "2022-10-02T07:41:07.295613Z",
     "shell.execute_reply": "2022-10-02T07:41:07.294259Z",
     "shell.execute_reply.started": "2022-10-02T07:41:07.270002Z"
    }
   },
   "outputs": [],
   "source": [
    "def duration(lst):\n",
    "    \n",
    "    minutes = 0\n",
    "    \n",
    "    for i in lst.split(','):\n",
    "        if ('minutes' in  i):\n",
    "            minutes += int(i[:-8])\n",
    "        if ('hour' in i):\n",
    "            minutes += (int(i[:-5])*60)\n",
    "        if ('seconds' in i):\n",
    "            if int(i[:-8])>40:\n",
    "                minutes += 1\n",
    "                \n",
    "    return minutes\n",
    "\n",
    "dur = []\n",
    "\n",
    "for i in df['duration']:\n",
    "    dur.append(duration(i))\n",
    "    \n",
    "df['duration'] = dur"
   ]
  },
  {
   "cell_type": "code",
   "execution_count": 31,
   "metadata": {
    "execution": {
     "iopub.execute_input": "2022-10-02T07:47:27.835640Z",
     "iopub.status.busy": "2022-10-02T07:47:27.835216Z",
     "iopub.status.idle": "2022-10-02T07:47:27.853316Z",
     "shell.execute_reply": "2022-10-02T07:47:27.851957Z",
     "shell.execute_reply.started": "2022-10-02T07:47:27.835605Z"
    }
   },
   "outputs": [
    {
     "data": {
      "text/html": [
       "<div>\n",
       "<style scoped>\n",
       "    .dataframe tbody tr th:only-of-type {\n",
       "        vertical-align: middle;\n",
       "    }\n",
       "\n",
       "    .dataframe tbody tr th {\n",
       "        vertical-align: top;\n",
       "    }\n",
       "\n",
       "    .dataframe thead th {\n",
       "        text-align: right;\n",
       "    }\n",
       "</style>\n",
       "<table border=\"1\" class=\"dataframe\">\n",
       "  <thead>\n",
       "    <tr style=\"text-align: right;\">\n",
       "      <th></th>\n",
       "      <th>video_link</th>\n",
       "      <th>duration</th>\n",
       "      <th>title</th>\n",
       "      <th>views</th>\n",
       "      <th>likes</th>\n",
       "      <th>comments</th>\n",
       "      <th>date</th>\n",
       "      <th>month</th>\n",
       "      <th>year</th>\n",
       "      <th>date_month_year</th>\n",
       "      <th>day</th>\n",
       "    </tr>\n",
       "  </thead>\n",
       "  <tbody>\n",
       "    <tr>\n",
       "      <th>1</th>\n",
       "      <td>https://www.youtube.com//watch?v=FrqBWQ-mVEc</td>\n",
       "      <td>10</td>\n",
       "      <td>The Future Will Be Shaped by Optimists | Kevin...</td>\n",
       "      <td>51273</td>\n",
       "      <td>1900</td>\n",
       "      <td>262</td>\n",
       "      <td>21</td>\n",
       "      <td>4</td>\n",
       "      <td>2022</td>\n",
       "      <td>21/4/2022</td>\n",
       "      <td>Thu</td>\n",
       "    </tr>\n",
       "    <tr>\n",
       "      <th>2</th>\n",
       "      <td>https://www.youtube.com//watch?v=iIne-UO7wUo</td>\n",
       "      <td>9</td>\n",
       "      <td>An Olympic Champion’s Unwavering Advocacy for ...</td>\n",
       "      <td>25597</td>\n",
       "      <td>355</td>\n",
       "      <td>53</td>\n",
       "      <td>20</td>\n",
       "      <td>4</td>\n",
       "      <td>2022</td>\n",
       "      <td>20/4/2022</td>\n",
       "      <td>Wed</td>\n",
       "    </tr>\n",
       "    <tr>\n",
       "      <th>3</th>\n",
       "      <td>https://www.youtube.com//watch?v=5T2VRY0LECc</td>\n",
       "      <td>7</td>\n",
       "      <td>The African Swamp Protecting Earth's Environme...</td>\n",
       "      <td>21430</td>\n",
       "      <td>633</td>\n",
       "      <td>40</td>\n",
       "      <td>20</td>\n",
       "      <td>4</td>\n",
       "      <td>2022</td>\n",
       "      <td>20/4/2022</td>\n",
       "      <td>Wed</td>\n",
       "    </tr>\n",
       "    <tr>\n",
       "      <th>4</th>\n",
       "      <td>https://www.youtube.com//watch?v=YRvf00NooN8</td>\n",
       "      <td>66</td>\n",
       "      <td>Elon Musk: A future worth getting excited abou...</td>\n",
       "      <td>3609893</td>\n",
       "      <td>95000</td>\n",
       "      <td>8757</td>\n",
       "      <td>18</td>\n",
       "      <td>4</td>\n",
       "      <td>2022</td>\n",
       "      <td>18/4/2022</td>\n",
       "      <td>Mon</td>\n",
       "    </tr>\n",
       "    <tr>\n",
       "      <th>5</th>\n",
       "      <td>https://www.youtube.com//watch?v=cdZZpaB2kDM</td>\n",
       "      <td>55</td>\n",
       "      <td>Elon Musk talks Twitter, Tesla and how his bra...</td>\n",
       "      <td>4405481</td>\n",
       "      <td>115000</td>\n",
       "      <td>10444</td>\n",
       "      <td>14</td>\n",
       "      <td>4</td>\n",
       "      <td>2022</td>\n",
       "      <td>14/4/2022</td>\n",
       "      <td>Thu</td>\n",
       "    </tr>\n",
       "  </tbody>\n",
       "</table>\n",
       "</div>"
      ],
      "text/plain": [
       "                                     video_link  duration  \\\n",
       "1  https://www.youtube.com//watch?v=FrqBWQ-mVEc        10   \n",
       "2  https://www.youtube.com//watch?v=iIne-UO7wUo         9   \n",
       "3  https://www.youtube.com//watch?v=5T2VRY0LECc         7   \n",
       "4  https://www.youtube.com//watch?v=YRvf00NooN8        66   \n",
       "5  https://www.youtube.com//watch?v=cdZZpaB2kDM        55   \n",
       "\n",
       "                                               title    views   likes  \\\n",
       "1  The Future Will Be Shaped by Optimists | Kevin...    51273    1900   \n",
       "2  An Olympic Champion’s Unwavering Advocacy for ...    25597     355   \n",
       "3  The African Swamp Protecting Earth's Environme...    21430     633   \n",
       "4  Elon Musk: A future worth getting excited abou...  3609893   95000   \n",
       "5  Elon Musk talks Twitter, Tesla and how his bra...  4405481  115000   \n",
       "\n",
       "   comments  date  month  year date_month_year  day  \n",
       "1       262    21      4  2022       21/4/2022  Thu  \n",
       "2        53    20      4  2022       20/4/2022  Wed  \n",
       "3        40    20      4  2022       20/4/2022  Wed  \n",
       "4      8757    18      4  2022       18/4/2022  Mon  \n",
       "5     10444    14      4  2022       14/4/2022  Thu  "
      ]
     },
     "execution_count": 31,
     "metadata": {},
     "output_type": "execute_result"
    }
   ],
   "source": [
    "df.head()"
   ]
  },
  {
   "cell_type": "code",
   "execution_count": 32,
   "metadata": {
    "execution": {
     "iopub.execute_input": "2022-10-02T07:48:11.808117Z",
     "iopub.status.busy": "2022-10-02T07:48:11.807683Z",
     "iopub.status.idle": "2022-10-02T07:48:11.838555Z",
     "shell.execute_reply": "2022-10-02T07:48:11.837300Z",
     "shell.execute_reply.started": "2022-10-02T07:48:11.808079Z"
    }
   },
   "outputs": [],
   "source": [
    "df.to_csv(\"TED_Preprocessed.csv\", index = False)"
   ]
  }
 ],
 "metadata": {
  "kernelspec": {
   "display_name": "Python 3 (ipykernel)",
   "language": "python",
   "name": "python3"
  },
  "language_info": {
   "codemirror_mode": {
    "name": "ipython",
    "version": 3
   },
   "file_extension": ".py",
   "mimetype": "text/x-python",
   "name": "python",
   "nbconvert_exporter": "python",
   "pygments_lexer": "ipython3",
   "version": "3.11.0"
  }
 },
 "nbformat": 4,
 "nbformat_minor": 4
}
